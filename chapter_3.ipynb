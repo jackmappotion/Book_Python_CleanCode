{
 "cells": [
  {
   "cell_type": "code",
   "execution_count": null,
   "metadata": {},
   "outputs": [],
   "source": [
    "# 방어적 프로그래밍\n",
    "\n",
    "## 값 대체\n",
    "config = {\"dbport\": 3306}\n",
    "config.get(\"dbhost\", \"localhost\")"
   ]
  },
  {
   "cell_type": "code",
   "execution_count": null,
   "metadata": {},
   "outputs": [],
   "source": [
    "from dataclasses import dataclass\n",
    "\n",
    "USERS = [(i, f\"first_name_{i}\", f\"last_name_{i}\") for i in range(1_000)]\n",
    "\n",
    "\n",
    "@dataclass\n",
    "class User:\n",
    "    user_id: int\n",
    "    first_name: str\n",
    "    last_name: str\n",
    "\n",
    "\n",
    "def bad_users_from_rows(dbrows) -> list:\n",
    "    return [User(row[0], row[1], row[2]) for row in dbrows]\n",
    "\n",
    "\n",
    "def users_from_rows(dbrows) -> list:\n",
    "    return [\n",
    "        User(user_id, first_name, last_name)\n",
    "        for (user_id, first_name, last_name) in dbrows\n",
    "    ]"
   ]
  },
  {
   "cell_type": "code",
   "execution_count": null,
   "metadata": {},
   "outputs": [],
   "source": [
    "###############################################################################\n",
    "\n",
    "results = list()\n",
    "for arg in range(10):\n",
    "    result = arg**2\n",
    "    results.append(arg)\n",
    "\n",
    "\n",
    "###############################################################################\n",
    "def get_squared(val):\n",
    "    return val**2\n",
    "\n",
    "\n",
    "results = [get_squared(val) for val in range(10)]"
   ]
  }
 ],
 "metadata": {
  "language_info": {
   "name": "python"
  }
 },
 "nbformat": 4,
 "nbformat_minor": 2
}
