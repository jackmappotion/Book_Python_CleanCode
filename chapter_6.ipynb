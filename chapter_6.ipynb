{
 "cells": [
  {
   "cell_type": "code",
   "execution_count": null,
   "metadata": {},
   "outputs": [],
   "source": [
    "# 디스크럽터 (Descriptor)\n",
    "\"\"\"\n",
    "__get__\n",
    "__set__\n",
    "__delete__\n",
    "__set_name__\n",
    "중 하나 이상을 가지고 있는 class\n",
    "\"\"\""
   ]
  },
  {
   "cell_type": "code",
   "execution_count": 2,
   "metadata": {},
   "outputs": [
    {
     "name": "stdout",
     "output_type": "stream",
     "text": [
      "<__main__.Attribute object at 0x1039c8c40>\n",
      "42\n"
     ]
    }
   ],
   "source": [
    "class Attribute:\n",
    "    value = 42\n",
    "\n",
    "class Client:\n",
    "    attribute = Attribute()\n",
    "\n",
    "print(Client().attribute)\n",
    "print(Client().attribute.value)"
   ]
  },
  {
   "cell_type": "code",
   "execution_count": 10,
   "metadata": {},
   "outputs": [],
   "source": [
    "import logging\n",
    "\n",
    "logging.basicConfig(level=logging.INFO)\n",
    "logger = logging.getLogger(__name__)\n",
    "\n",
    "class DescriptorClass:\n",
    "    def __get__(self, instance, owner):\n",
    "        if instance is None:\n",
    "            return self\n",
    "        logger.info(\n",
    "            \"%s.__get__ 메서드 호출(%r, %r)\",\n",
    "            self.__class__.__name__,\n",
    "            instance,\n",
    "            owner,\n",
    "        )\n",
    "        return instance\n",
    "\n",
    "\n",
    "class ClientClass:\n",
    "    descriptor = DescriptorClass()"
   ]
  },
  {
   "cell_type": "code",
   "execution_count": 13,
   "metadata": {},
   "outputs": [
    {
     "name": "stderr",
     "output_type": "stream",
     "text": [
      "INFO:__main__:DescriptorClass.__get__ 메서드 호출(<__main__.ClientClass object at 0x10915dd80>, <class '__main__.ClientClass'>)\n"
     ]
    },
    {
     "data": {
      "text/plain": [
       "<__main__.ClientClass at 0x10915dd80>"
      ]
     },
     "execution_count": 13,
     "metadata": {},
     "output_type": "execute_result"
    }
   ],
   "source": [
    "client = ClientClass()\n",
    "client.descriptor"
   ]
  },
  {
   "cell_type": "code",
   "execution_count": 14,
   "metadata": {},
   "outputs": [
    {
     "name": "stderr",
     "output_type": "stream",
     "text": [
      "INFO:__main__:DescriptorClass.__get__ 메서드 호출(<__main__.ClientClass object at 0x10915dd80>, <class '__main__.ClientClass'>)\n"
     ]
    },
    {
     "data": {
      "text/plain": [
       "True"
      ]
     },
     "execution_count": 14,
     "metadata": {},
     "output_type": "execute_result"
    }
   ],
   "source": [
    "client.descriptor is client"
   ]
  },
  {
   "cell_type": "code",
   "execution_count": null,
   "metadata": {},
   "outputs": [],
   "source": [
    "class DescriptorClass:\n",
    "    def __get__(self, instance, owner):\n",
    "        if instance is None:\n",
    "            return f\"{self.__class__.__name__}.{owner.__name__}\"\n",
    "        return f\"value for {instance}\"\n",
    "\n",
    "class ClientClass:\n",
    "    descriptor = Descriptor"
   ]
  }
 ],
 "metadata": {
  "kernelspec": {
   "display_name": "quant_trading",
   "language": "python",
   "name": "python3"
  },
  "language_info": {
   "codemirror_mode": {
    "name": "ipython",
    "version": 3
   },
   "file_extension": ".py",
   "mimetype": "text/x-python",
   "name": "python",
   "nbconvert_exporter": "python",
   "pygments_lexer": "ipython3",
   "version": "3.10.13"
  }
 },
 "nbformat": 4,
 "nbformat_minor": 2
}
