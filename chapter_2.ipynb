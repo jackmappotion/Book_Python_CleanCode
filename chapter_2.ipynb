{
 "cells": [
  {
   "cell_type": "code",
   "execution_count": null,
   "metadata": {},
   "outputs": [],
   "source": [
    "##############################################################################\n",
    "file_name = \"./data/my_file\"\n",
    "\n",
    "\n",
    "def process_file(fd):\n",
    "    pass\n",
    "\n",
    "\n",
    "##############################################################################\n",
    "\n",
    "fd = open(file_name)\n",
    "try:\n",
    "    process_file(fd)\n",
    "finally:\n",
    "    fd.close()\n",
    "\n",
    "##############################################################################\n",
    "with open(file_name) as fd:\n",
    "    process_file(fd)\n",
    "    "
   ]
  },
  {
   "cell_type": "code",
   "execution_count": null,
   "metadata": {},
   "outputs": [],
   "source": [
    "# context manager\n",
    "import contextlib\n",
    "\n",
    "\n",
    "def stop_datebase():\n",
    "    pass\n",
    "\n",
    "\n",
    "def start_datebase():\n",
    "    pass\n",
    "\n",
    "\n",
    "##############################################################################\n",
    "@contextlib.contextmanager\n",
    "def db_handler():\n",
    "    try:\n",
    "        stop_datebase()\n",
    "        yield\n",
    "    finally:\n",
    "        start_datebase()\n",
    "\n",
    "\n",
    "##############################################################################\n",
    "def run():\n",
    "    pass\n",
    "\n",
    "\n",
    "class dbhandler_decorator(contextlib.ContextDecorator):\n",
    "    def __enter__(self):\n",
    "        stop_datebase()\n",
    "        return self\n",
    "\n",
    "    def __exit__(self, ext_type, ex_value, ex_traceback):\n",
    "        start_datebase()\n",
    "\n",
    "\n",
    "@dbhandler_decorator\n",
    "def offline_backup():\n",
    "    run(\"pg_dump database\")"
   ]
  },
  {
   "cell_type": "code",
   "execution_count": null,
   "metadata": {},
   "outputs": [],
   "source": [
    "# comprehensions\n",
    "import re\n",
    "from typing import Iterable, Set\n",
    "\n",
    "\n",
    "def ARN_REGEX():\n",
    "    pass\n",
    "\n",
    "\n",
    "##############################################################################\n",
    "def collect_account_ids_from_arns(arns: Iterable[str]) -> Set[str]:\n",
    "    \"\"\"\n",
    "    arn:partition:region:account-id:resource_id 형태의 ARN들이 주어진 경우\n",
    "    고유한 계정 ID (account-id)를 찾아서 반환\n",
    "    \"\"\"\n",
    "    collected_account_ids = set()\n",
    "    for arn in arns:\n",
    "        matched = re.match(ARN_REGEX, arn)\n",
    "        if matched is not None:\n",
    "            account_id = matched.groupdict()[\"account_id\"]\n",
    "            collected_account_ids.add(account_id)\n",
    "    return collected_account_ids\n",
    "\n",
    "\n",
    "##############################################################################\n",
    "def collect_account_ids_from_arns(arns: Iterable[str]) -> Set[str]:\n",
    "    matched_arns = filter(None, (re.match(ARN_REGEX, arn) for arn in arns))\n",
    "    return {m.groupdict()[\"account_id\"] for m in matched_arns}\n",
    "\n",
    "\n",
    "##############################################################################\n",
    "def collect_account_ids_from_arns(arns: Iterable[str]) -> Set[str]:\n",
    "    return {\n",
    "        matched.groupdict()['account_id']\n",
    "        for arn in arns\n",
    "        if (matched := re.match(ARN_REGEX,arn)) is not None\n",
    "    }"
   ]
  },
  {
   "cell_type": "code",
   "execution_count": 44,
   "metadata": {},
   "outputs": [
    {
     "name": "stdout",
     "output_type": "stream",
     "text": [
      "postgresql://localhost\n",
      "60\n",
      "{'source': 'postgresql://localhost', '_timeout': 60}\n",
      "postgresql://localhost\n"
     ]
    },
    {
     "ename": "AttributeError",
     "evalue": "'Connector' object has no attribute '__timeout'",
     "output_type": "error",
     "traceback": [
      "\u001b[0;31m---------------------------------------------------------------------------\u001b[0m",
      "\u001b[0;31mAttributeError\u001b[0m                            Traceback (most recent call last)",
      "Cell \u001b[0;32mIn[44], line 25\u001b[0m\n\u001b[1;32m     22\u001b[0m connector \u001b[38;5;241m=\u001b[39m Connector(\u001b[38;5;124m\"\u001b[39m\u001b[38;5;124mpostgresql://localhost\u001b[39m\u001b[38;5;124m\"\u001b[39m)\n\u001b[1;32m     24\u001b[0m \u001b[38;5;28mprint\u001b[39m(connector\u001b[38;5;241m.\u001b[39msource)\n\u001b[0;32m---> 25\u001b[0m \u001b[38;5;28mprint\u001b[39m(\u001b[43mconnector\u001b[49m\u001b[38;5;241;43m.\u001b[39;49m\u001b[43m__timeout\u001b[49m)\n\u001b[1;32m     26\u001b[0m \u001b[38;5;28mprint\u001b[39m(connector\u001b[38;5;241m.\u001b[39m\u001b[38;5;18m__dict__\u001b[39m)\n\u001b[1;32m     29\u001b[0m \u001b[38;5;66;03m##############################################################################\u001b[39;00m\n",
      "\u001b[0;31mAttributeError\u001b[0m: 'Connector' object has no attribute '__timeout'"
     ]
    }
   ],
   "source": [
    "# under bar\n",
    "##############################################################################\n",
    "class Connector:\n",
    "    def __init__(self, source) -> None:\n",
    "        self.source = source\n",
    "        self._timeout = 60\n",
    "\n",
    "\n",
    "connector = Connector(\"postgresql://localhost\")\n",
    "\n",
    "print(connector.source)\n",
    "print(connector._timeout)\n",
    "print(connector.__dict__)\n",
    "\n",
    "\n",
    "##############################################################################\n",
    "class Connector:\n",
    "    def __init__(self, source) -> None:\n",
    "        self.source = source\n",
    "        self.__timeout = 60\n",
    "\n",
    "\n",
    "connector = Connector(\"postgresql://localhost\")\n",
    "\n",
    "print(connector.source)\n",
    "print(connector.__timeout)\n",
    "print(connector.__dict__)\n",
    "\n",
    "\n",
    "##############################################################################\n",
    "class Connector:\n",
    "    def __init__(self, source) -> None:\n",
    "        self.source = source\n",
    "        self.__timeout = 60\n",
    "\n",
    "    def connect(self):\n",
    "        print(f\"connecting with {self.__timeout}s\")\n",
    "\n",
    "\n",
    "connector = Connector(\"postgresql://localhost\")\n",
    "connector.connect()\n",
    "connector.__timeout"
   ]
  },
  {
   "cell_type": "code",
   "execution_count": 46,
   "metadata": {},
   "outputs": [
    {
     "name": "stdout",
     "output_type": "stream",
     "text": [
      "{'source': 'postgresql://localhost', '_timeout': 60}\n",
      "{'source': 'postgresql://localhost', '_Connector__timeout': 60}\n"
     ]
    }
   ],
   "source": [
    "##############################################################################\n",
    "class Connector:\n",
    "    def __init__(self, source) -> None:\n",
    "        self.source = source\n",
    "        self._timeout = 60\n",
    "\n",
    "\n",
    "connector = Connector(\"postgresql://localhost\")\n",
    "print(vars(connector))\n",
    "\n",
    "\n",
    "##############################################################################\n",
    "class Connector:\n",
    "    def __init__(self, source) -> None:\n",
    "        self.source = source\n",
    "        self.__timeout = 60\n",
    "\n",
    "\n",
    "connector = Connector(\"postgresql://localhost\")\n",
    "print(vars(connector))\n",
    "print(connector._Connector__timeout)"
   ]
  },
  {
   "cell_type": "code",
   "execution_count": 102,
   "metadata": {},
   "outputs": [],
   "source": [
    "# property\n",
    "class Coordinate:\n",
    "    def __init__(self, lat: float, long: float) -> None:\n",
    "        self._latitude = self._longitude = None\n",
    "        self.latitude = lat\n",
    "        self.longitude = long\n",
    "\n",
    "    @property\n",
    "    def latitude(self) -> float:\n",
    "        return self._latitude\n",
    "\n",
    "    @latitude.setter\n",
    "    def latitude(self, lat_value: float) -> None:\n",
    "        if lat_value not in range(-90, 90 + 1):\n",
    "            raise ValueError(f\"유효하지 않은 위도 값 : {lat_value}\")\n",
    "        self._latitude = lat_value\n",
    "\n",
    "    @property\n",
    "    def longitude(self) -> float:\n",
    "        return self._longitude\n",
    "\n",
    "    @longitude.setter\n",
    "    def longitude(self, long_value: float) -> None:\n",
    "        if long_value not in range(-180, 180 + 1):\n",
    "            raise ValueError(f\"유효하지 않은 경도 값 : {long_value}\")\n",
    "        self._longitude = long_value"
   ]
  },
  {
   "cell_type": "code",
   "execution_count": 105,
   "metadata": {},
   "outputs": [
    {
     "data": {
      "text/plain": [
       "{'_latitude': 1, '_longitude': 4}"
      ]
     },
     "execution_count": 105,
     "metadata": {},
     "output_type": "execute_result"
    }
   ],
   "source": [
    "coordinate = Coordinate(1, 4)\n",
    "coordinate.__dict__"
   ]
  },
  {
   "cell_type": "code",
   "execution_count": 129,
   "metadata": {},
   "outputs": [],
   "source": [
    "from typing import List\n",
    "from dataclasses import dataclass, field\n",
    "\n",
    "R = 26\n",
    "\n",
    "\n",
    "@dataclass\n",
    "class RTrieNode:\n",
    "    size = R\n",
    "    value: int\n",
    "    next_: List[\"RTrieNode\"] = field(default_factory=lambda x: [None] * R)\n",
    "\n",
    "    def __post_init__(self):\n",
    "        if len(self.next_) != self.size:\n",
    "            raise ValueError(f\"리스트 (next_)의 길이가 유효하지 않음\")\n",
    "\n",
    "\n",
    "rtrienode = RTrieNode(3, [i for i in range(R)])"
   ]
  },
  {
   "cell_type": "code",
   "execution_count": 187,
   "metadata": {},
   "outputs": [
    {
     "name": "stdout",
     "output_type": "stream",
     "text": [
      "2023-01-01\n",
      "2023-01-02\n",
      "2023-01-03\n",
      "2023-01-04\n",
      "2023-01-05\n",
      "2023-01-06\n",
      "2023-01-07\n",
      "2023-01-08\n",
      "2023-01-09\n"
     ]
    }
   ],
   "source": [
    "from datetime import date\n",
    "from datetime import timedelta\n",
    "\n",
    "\n",
    "class DateRangeIterable:\n",
    "    \"\"\"자체 이터레이터 메서드를 가지고 있는 이터러블\"\"\"\n",
    "\n",
    "    def __init__(self, start_date, end_date) -> None:\n",
    "        self.start_date = start_date\n",
    "        self.end_date = end_date\n",
    "        self._present_day = start_date\n",
    "\n",
    "    def __iter__(self):\n",
    "        return self\n",
    "\n",
    "    def __next__(self):\n",
    "        if self._present_day >= self.end_date:\n",
    "            raise StopIteration\n",
    "        today = self._present_day\n",
    "        self._present_day += timedelta(days=1)\n",
    "        return today\n",
    "\n",
    "    def a(self):\n",
    "        return self\n",
    "\n",
    "\n",
    "for day in DateRangeIterable(date(2023, 1, 1), date(2023, 1, 10)):\n",
    "    print(day)"
   ]
  },
  {
   "cell_type": "code",
   "execution_count": 188,
   "metadata": {},
   "outputs": [],
   "source": [
    "r1 = DateRangeIterable(date(2023, 1, 1), date(2023, 1, 3))"
   ]
  },
  {
   "cell_type": "code",
   "execution_count": 189,
   "metadata": {},
   "outputs": [
    {
     "data": {
      "text/plain": [
       "datetime.date(2023, 1, 1)"
      ]
     },
     "execution_count": 189,
     "metadata": {},
     "output_type": "execute_result"
    }
   ],
   "source": [
    "next(r1)"
   ]
  },
  {
   "cell_type": "code",
   "execution_count": 169,
   "metadata": {},
   "outputs": [
    {
     "data": {
      "text/plain": [
       "datetime.date(2023, 1, 2)"
      ]
     },
     "execution_count": 169,
     "metadata": {},
     "output_type": "execute_result"
    }
   ],
   "source": [
    "next(r1)"
   ]
  },
  {
   "cell_type": "code",
   "execution_count": 170,
   "metadata": {},
   "outputs": [
    {
     "ename": "StopIteration",
     "evalue": "",
     "output_type": "error",
     "traceback": [
      "\u001b[0;31m---------------------------------------------------------------------------\u001b[0m",
      "\u001b[0;31mStopIteration\u001b[0m                             Traceback (most recent call last)",
      "Cell \u001b[0;32mIn[170], line 1\u001b[0m\n\u001b[0;32m----> 1\u001b[0m \u001b[38;5;28;43mnext\u001b[39;49m\u001b[43m(\u001b[49m\u001b[43mr1\u001b[49m\u001b[43m)\u001b[49m\n",
      "Cell \u001b[0;32mIn[149], line 18\u001b[0m, in \u001b[0;36mDateRangeIterable.__next__\u001b[0;34m(self)\u001b[0m\n\u001b[1;32m     16\u001b[0m \u001b[38;5;28;01mdef\u001b[39;00m \u001b[38;5;21m__next__\u001b[39m(\u001b[38;5;28mself\u001b[39m):\n\u001b[1;32m     17\u001b[0m     \u001b[38;5;28;01mif\u001b[39;00m \u001b[38;5;28mself\u001b[39m\u001b[38;5;241m.\u001b[39m_present_day \u001b[38;5;241m>\u001b[39m\u001b[38;5;241m=\u001b[39m \u001b[38;5;28mself\u001b[39m\u001b[38;5;241m.\u001b[39mend_date:\n\u001b[0;32m---> 18\u001b[0m         \u001b[38;5;28;01mraise\u001b[39;00m \u001b[38;5;167;01mStopIteration\u001b[39;00m\n\u001b[1;32m     19\u001b[0m     today \u001b[38;5;241m=\u001b[39m \u001b[38;5;28mself\u001b[39m\u001b[38;5;241m.\u001b[39m_present_day\n\u001b[1;32m     20\u001b[0m     \u001b[38;5;28mself\u001b[39m\u001b[38;5;241m.\u001b[39m_present_day \u001b[38;5;241m+\u001b[39m\u001b[38;5;241m=\u001b[39m timedelta(days\u001b[38;5;241m=\u001b[39m\u001b[38;5;241m1\u001b[39m)\n",
      "\u001b[0;31mStopIteration\u001b[0m: "
     ]
    }
   ],
   "source": [
    "next(r1)"
   ]
  },
  {
   "cell_type": "code",
   "execution_count": 191,
   "metadata": {},
   "outputs": [],
   "source": [
    "from datetime import date\n",
    "from datetime import timedelta\n",
    "\n",
    "\n",
    "class DateRangeContainerIterable:\n",
    "    \"\"\"자체 이터레이터 메서드를 가지고 있는 이터러블\"\"\"\n",
    "\n",
    "    def __init__(self, start_date, end_date) -> None:\n",
    "        self.start_date = start_date\n",
    "        self.end_date = end_date\n",
    "\n",
    "    def __iter__(self):\n",
    "        current_day = self.start_date\n",
    "        while current_day < self.end_date:\n",
    "            yield current_day\n",
    "            current_day += timedelta(days=1)"
   ]
  },
  {
   "cell_type": "code",
   "execution_count": 192,
   "metadata": {},
   "outputs": [],
   "source": [
    "r1 = DateRangeIterable(date(2023, 1, 1), date(2023, 1, 3))"
   ]
  },
  {
   "cell_type": "code",
   "execution_count": 1,
   "metadata": {},
   "outputs": [],
   "source": [
    "# 컨테이너\n",
    "\n",
    "\n",
    "##############################################################################\n",
    "def mark_coordinate(grid, coord):\n",
    "    MARKED = 1\n",
    "    if 0 <= coord.x < grid.width and 0 <= coord.y < grid.height:\n",
    "        grid[coord] = MARKED\n",
    "\n",
    "\n",
    "##############################################################################\n",
    "class Boundaries:\n",
    "    def __init__(self, width, height) -> None:\n",
    "        self.width = width\n",
    "        self.height = height\n",
    "\n",
    "    def __contains__(self, coord):\n",
    "        x, y = coord\n",
    "        return 0 <= x < self.width and 0 <= y < self.height\n",
    "\n",
    "\n",
    "class Grid:\n",
    "    def __init__(self, width, height) -> None:\n",
    "        self.width = width\n",
    "        self.height = height\n",
    "        self.boundaries = Boundaries(width, height)\n",
    "\n",
    "    def __contains__(self, coord):\n",
    "        return coord in self.boundaries\n",
    "\n",
    "\n",
    "def mark_coordinate(grid, coord):\n",
    "    MARKED = 1\n",
    "    if coord in grid:\n",
    "        grid[coord] = MARKED"
   ]
  },
  {
   "cell_type": "code",
   "execution_count": 6,
   "metadata": {},
   "outputs": [
    {
     "data": {
      "text/plain": [
       "'value'"
      ]
     },
     "execution_count": 6,
     "metadata": {},
     "output_type": "execute_result"
    }
   ],
   "source": [
    "# dynamic attribute\n",
    "class DynamicAttributes:\n",
    "    def __init__(self, attribute) -> None:\n",
    "        self.attribute = attribute\n",
    "\n",
    "    def __getattr__(self, attr):\n",
    "        if attr.startswith(\"fallback_\"):\n",
    "            name = attr.replace(\"fallback_\", \"\")\n",
    "            return f\"[fallback resolved] {name}\"\n",
    "        raise AttributeError(f\"{self.__class__.__name__}에는 {attr} 속성이 없음\")\n",
    "\n",
    "\n",
    "dyn = DynamicAttributes(\"value\")"
   ]
  },
  {
   "cell_type": "code",
   "execution_count": 7,
   "metadata": {},
   "outputs": [
    {
     "data": {
      "text/plain": [
       "'value'"
      ]
     },
     "execution_count": 7,
     "metadata": {},
     "output_type": "execute_result"
    }
   ],
   "source": [
    "dyn.attribute"
   ]
  },
  {
   "cell_type": "code",
   "execution_count": 13,
   "metadata": {},
   "outputs": [
    {
     "data": {
      "text/plain": [
       "'[fallback resolved] test'"
      ]
     },
     "execution_count": 13,
     "metadata": {},
     "output_type": "execute_result"
    }
   ],
   "source": [
    "dyn.fallback_test"
   ]
  },
  {
   "cell_type": "code",
   "execution_count": 16,
   "metadata": {},
   "outputs": [
    {
     "data": {
      "text/plain": [
       "'new value'"
      ]
     },
     "execution_count": 16,
     "metadata": {},
     "output_type": "execute_result"
    }
   ],
   "source": [
    "dyn.__dict__[\"fallback_new\"] = \"new value\"\n",
    "dyn.fallback_new"
   ]
  },
  {
   "cell_type": "code",
   "execution_count": 17,
   "metadata": {},
   "outputs": [
    {
     "data": {
      "text/plain": [
       "'default'"
      ]
     },
     "execution_count": 17,
     "metadata": {},
     "output_type": "execute_result"
    }
   ],
   "source": [
    "getattr(dyn, \"somthing\", \"default\")"
   ]
  },
  {
   "cell_type": "code",
   "execution_count": 20,
   "metadata": {},
   "outputs": [
    {
     "data": {
      "text/plain": [
       "'value'"
      ]
     },
     "execution_count": 20,
     "metadata": {},
     "output_type": "execute_result"
    }
   ],
   "source": [
    "dyn.get"
   ]
  },
  {
   "cell_type": "code",
   "execution_count": 22,
   "metadata": {},
   "outputs": [],
   "source": [
    "def user_display(user_meta: dict = None):\n",
    "    user_metadata = user_meta or {\"name\": \"a\", \"age\": 1}\n",
    "\n",
    "    name = user_metadata.pop(\"name\")\n",
    "    age = user_metadata.pop(\"age\")\n",
    "    return f\"name : {name}, age : {age}\""
   ]
  },
  {
   "cell_type": "code",
   "execution_count": 29,
   "metadata": {},
   "outputs": [
    {
     "data": {
      "text/plain": [
       "'name : a, age : 1'"
      ]
     },
     "execution_count": 29,
     "metadata": {},
     "output_type": "execute_result"
    }
   ],
   "source": [
    "user_display()"
   ]
  },
  {
   "cell_type": "code",
   "execution_count": null,
   "metadata": {},
   "outputs": [],
   "source": [
    "# for custom built in types\n",
    "from collections import UserDict, UserList, UserString"
   ]
  }
 ],
 "metadata": {
  "kernelspec": {
   "display_name": "quant_trading",
   "language": "python",
   "name": "python3"
  },
  "language_info": {
   "codemirror_mode": {
    "name": "ipython",
    "version": 3
   },
   "file_extension": ".py",
   "mimetype": "text/x-python",
   "name": "python",
   "nbconvert_exporter": "python",
   "pygments_lexer": "ipython3",
   "version": "3.10.13"
  }
 },
 "nbformat": 4,
 "nbformat_minor": 2
}
