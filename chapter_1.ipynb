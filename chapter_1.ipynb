{
 "cells": [
  {
   "cell_type": "code",
   "execution_count": 2,
   "metadata": {},
   "outputs": [],
   "source": [
    "from dataclasses import dataclass"
   ]
  },
  {
   "cell_type": "code",
   "execution_count": 5,
   "metadata": {},
   "outputs": [
    {
     "data": {
      "text/plain": [
       "{'latitude': float, 'longitude': float, 'return': __main__.Point}"
      ]
     },
     "execution_count": 5,
     "metadata": {},
     "output_type": "execute_result"
    }
   ],
   "source": [
    "@dataclass\n",
    "class Point:\n",
    "    lat : float\n",
    "    long : float\n",
    "\n",
    "def locate(latitude : float, longitude :float) -> Point:\n",
    "    \"\"\" \"\"\"\n",
    "\n",
    "locate.__annotations__"
   ]
  },
  {
   "cell_type": "code",
   "execution_count": 13,
   "metadata": {},
   "outputs": [
    {
     "name": "stdout",
     "output_type": "stream",
     "text": [
      "{}\n",
      "{'delay': <class 'float'>}\n"
     ]
    }
   ],
   "source": [
    "##############################################################################\n",
    "def launch_task(delay_in_seconds):\n",
    "    pass\n",
    "\n",
    "\n",
    "print(launch_task.__annotations__)\n",
    "##############################################################################\n",
    "Seconds = float\n",
    "\n",
    "\n",
    "def launch_task(delay: Seconds):\n",
    "    pass\n",
    "\n",
    "\n",
    "print(launch_task.__annotations__)"
   ]
  },
  {
   "cell_type": "code",
   "execution_count": 3,
   "metadata": {},
   "outputs": [
    {
     "name": "stdout",
     "output_type": "stream",
     "text": [
      "ver_1 :  {'clients': <class 'list'>}\n",
      "ver_2 :  {'clients': list[tuple[int, str]]}\n",
      "ver_3 :  {'clients': list[typing.Tuple[int, str]]}\n"
     ]
    }
   ],
   "source": [
    "##############################################################################\n",
    "def process_clients(clients: list):\n",
    "    pass\n",
    "\n",
    "\n",
    "print(\"ver_1 : \", process_clients.__annotations__)\n",
    "\n",
    "\n",
    "##############################################################################\n",
    "def process_clients(clients: list[tuple[int, str]]):\n",
    "    pass\n",
    "\n",
    "\n",
    "print(\"ver_2 : \", process_clients.__annotations__)\n",
    "\n",
    "##############################################################################\n",
    "from typing import Tuple\n",
    "\n",
    "Client = Tuple[int, str]\n",
    "Client = tuple[int, str]\n",
    "\n",
    "\n",
    "def process_clients(clients: list[Client]):\n",
    "    pass\n",
    "\n",
    "\n",
    "print(\"ver_3 : \", process_clients.__annotations__)"
   ]
  },
  {
   "cell_type": "code",
   "execution_count": null,
   "metadata": {},
   "outputs": [],
   "source": []
  },
  {
   "cell_type": "code",
   "execution_count": 7,
   "metadata": {},
   "outputs": [
    {
     "name": "stdout",
     "output_type": "stream",
     "text": [
      "{}\n",
      "{'lat': <class 'float'>, 'long': <class 'float'>}\n"
     ]
    }
   ],
   "source": [
    "##############################################################################\n",
    "class Point:\n",
    "    def __init__(self, lat, long) -> None:\n",
    "        self.lat = lat\n",
    "        self.long = long\n",
    "\n",
    "\n",
    "print(Point.__annotations__)\n",
    "\n",
    "##############################################################################\n",
    "from dataclasses import dataclass\n",
    "\n",
    "\n",
    "@dataclass\n",
    "class Point:\n",
    "    lat: float\n",
    "    long: float\n",
    "\n",
    "print(Point.__annotations__)"
   ]
  },
  {
   "cell_type": "code",
   "execution_count": 25,
   "metadata": {},
   "outputs": [
    {
     "data": {
      "text/plain": [
       "3"
      ]
     },
     "execution_count": 25,
     "metadata": {},
     "output_type": "execute_result"
    }
   ],
   "source": [
    "# my code\n",
    "@dataclass\n",
    "class Point:\n",
    "    lat: float\n",
    "    long: float\n",
    "\n",
    "    def sum(self):\n",
    "        ans = self.lat + self.long\n",
    "        return ans\n",
    "\n",
    "\n",
    "point = Point(1, 2)\n",
    "point.sum()"
   ]
  },
  {
   "cell_type": "code",
   "execution_count": null,
   "metadata": {},
   "outputs": [],
   "source": [
    "##############################################################################\n",
    "def data_from_response(response: dict) -> dict:\n",
    "    if response[\"status\"] != 200:\n",
    "        raise ValueError\n",
    "    return {\"date\": response[\"payload\"]}\n",
    "\n",
    "\n",
    "##############################################################################\n",
    "def data_from_response(response: dict) -> dict:\n",
    "    \"\"\"\n",
    "    response의 HTTP status가 200이라면 response의 payload를 반환\n",
    "\n",
    "    - response 사전의 예제::\n",
    "    {\n",
    "        \"status\":200, # <int>\n",
    "        \"timestamp\":\"...\", # 현재 시간의 ISO 포맷 문자열\n",
    "        \"status\":{...}, # 반환하려는 사전 데이터\n",
    "    }\n",
    "    - 반환 사전 값의 예제::\n",
    "    {\n",
    "        \"date\":{...}\n",
    "    }\n",
    "    - 발생 가능한 예외:\n",
    "    - HTTP status가 200이 아닌 경우 ValueError 발생\n",
    "    \"\"\"\n",
    "    if response[\"status\"] != 200:\n",
    "        raise ValueError\n",
    "    return {\"date\": response[\"payload\"]}"
   ]
  }
 ],
 "metadata": {
  "kernelspec": {
   "display_name": "quant_trading",
   "language": "python",
   "name": "python3"
  },
  "language_info": {
   "codemirror_mode": {
    "name": "ipython",
    "version": 3
   },
   "file_extension": ".py",
   "mimetype": "text/x-python",
   "name": "python",
   "nbconvert_exporter": "python",
   "pygments_lexer": "ipython3",
   "version": "3.10.13"
  }
 },
 "nbformat": 4,
 "nbformat_minor": 2
}
